{
  "nbformat": 4,
  "nbformat_minor": 0,
  "metadata": {
    "colab": {
      "name": "DAY22 - Artificial neural networks.ipynb",
      "provenance": [],
      "collapsed_sections": [],
      "include_colab_link": true
    },
    "kernelspec": {
      "name": "python3",
      "display_name": "Python 3"
    },
    "language_info": {
      "name": "python"
    }
  },
  "cells": [
    {
      "cell_type": "markdown",
      "metadata": {
        "id": "view-in-github",
        "colab_type": "text"
      },
      "source": [
        "<a href=\"https://colab.research.google.com/github/Aryasreeg/Aryasreeg/blob/main/DAY22_Artificial_neural_networks.ipynb\" target=\"_parent\"><img src=\"https://colab.research.google.com/assets/colab-badge.svg\" alt=\"Open In Colab\"/></a>"
      ]
    },
    {
      "cell_type": "markdown",
      "source": [
        "Importing necessary libraries"
      ],
      "metadata": {
        "id": "Lw63AYRUmDC9"
      }
    },
    {
      "cell_type": "code",
      "execution_count": 1,
      "metadata": {
        "id": "gb5Na49hlkUn"
      },
      "outputs": [],
      "source": [
        "import pandas as pd\n",
        "import matplotlib.pyplot as plt\n",
        "import seaborn as sns"
      ]
    },
    {
      "cell_type": "markdown",
      "source": [
        "Loading the dataset"
      ],
      "metadata": {
        "id": "YwUcbIwbmjWU"
      }
    },
    {
      "cell_type": "code",
      "source": [
        "data=pd.read_csv('/content/HR_comma_sep (2).csv')"
      ],
      "metadata": {
        "id": "P5gH7wPnmmfb"
      },
      "execution_count": 3,
      "outputs": []
    },
    {
      "cell_type": "code",
      "source": [
        "data.head() #returns the first five observations\n",
        "data.tail() #returns the last five observations\n",
        "data.info() #returns information like attriutes names and datatypes"
      ],
      "metadata": {
        "id": "UMjKrcEUmygB",
        "colab": {
          "base_uri": "https://localhost:8080/"
        },
        "outputId": "abff5062-b4b0-4bc3-c617-573a5b82ed4b"
      },
      "execution_count": 5,
      "outputs": [
        {
          "output_type": "stream",
          "name": "stdout",
          "text": [
            "<class 'pandas.core.frame.DataFrame'>\n",
            "RangeIndex: 14999 entries, 0 to 14998\n",
            "Data columns (total 10 columns):\n",
            " #   Column                 Non-Null Count  Dtype  \n",
            "---  ------                 --------------  -----  \n",
            " 0   satisfaction_level     14999 non-null  float64\n",
            " 1   last_evaluation        14999 non-null  float64\n",
            " 2   number_project         14999 non-null  int64  \n",
            " 3   average_montly_hours   14999 non-null  int64  \n",
            " 4   time_spend_company     14999 non-null  int64  \n",
            " 5   Work_accident          14999 non-null  int64  \n",
            " 6   left                   14999 non-null  int64  \n",
            " 7   promotion_last_5years  14999 non-null  int64  \n",
            " 8   sales                  14999 non-null  object \n",
            " 9   salary                 14999 non-null  object \n",
            "dtypes: float64(2), int64(6), object(2)\n",
            "memory usage: 1.1+ MB\n"
          ]
        }
      ]
    },
    {
      "cell_type": "markdown",
      "source": [
        "This dataset has 14999 samples, and 10 attributes"
      ],
      "metadata": {
        "id": "nUliC9Fyn4Kv"
      }
    },
    {
      "cell_type": "markdown",
      "source": [
        "10 attributes can be described in detail as:\n",
        "\n",
        "\n",
        "\n",
        "1.   satisfaction_level: It is the employee satisfaction point, which ranges from 0–1.\n",
        "2.   last_evaluation: It is evaluated performance by the employer, which also ranges from 0–1.\n",
        "3.   number_projects: How many numbers of projects assigned to an employee?\n",
        "4.   average_monthly_hours: How many average numbers of hours worked by an employee in a month?\n",
        "5.   time_spent_company: time_spent_company means employee experience. The number of years spent by an employee in the company.\n",
        "6.   work_accident: Whether an employee has had a work accident or not.\n",
        "7.   promotion_last_5years: Whether an employee has had a promotion in the last 5 years or not.\n",
        "8.   sales: Employee’s working department/division.\n",
        "9.   Salary: Salary level of the employee such as low, medium, and high.\n",
        "10.  left: Whether the employee has left the company or not.\n",
        "\n"
      ],
      "metadata": {
        "id": "wJgUmpP9olu_"
      }
    },
    {
      "cell_type": "code",
      "source": [
        "features=['number_project','time_spend_company','Work_accident','left', 'promotion_last_5years','sales','salary']"
      ],
      "metadata": {
        "id": "XmU9mJyht1o6"
      },
      "execution_count": 6,
      "outputs": []
    },
    {
      "cell_type": "code",
      "source": [
        "fig=plt.subplots(figsize=(10,15))\n",
        "\n",
        "for i, j in enumerate(features):\n",
        "     plt.subplot(4, 2, i+1)\n",
        "     plt.subplots_adjust(hspace = 1.5)\n",
        "     sns.countplot(x=j,data = data)\n",
        "     plt.xticks(rotation=45)\n",
        "     plt.title(\"No. of employee\")"
      ],
      "metadata": {
        "colab": {
          "base_uri": "https://localhost:8080/",
          "height": 919
        },
        "id": "k3furOzAuqpO",
        "outputId": "bde837c6-3c8e-4b37-8ad6-0044788281ee"
      },
      "execution_count": 7,
      "outputs": [
        {
          "output_type": "display_data",
          "data": {
            "image/png": "[encoded data removed]",
            "text/plain": [
              "<Figure size 720x1080 with 7 Axes>"
            ]
          },
          "metadata": {
            "needs_background": "light"
          }
        }
      ]
    },
    {
      "cell_type": "markdown",
      "source": [
        "We can make the following conclusions:\n",
        "\n",
        "\n",
        "*   Most of the employee is doing the project from 3–5.\n",
        "*   There is a huge drop between 3 years and 4 years of experienced employees.\n",
        "*   The no of employees left is 23% of the total employment.\n",
        "*   A very less number of employees get the promotion in the last 5 years.\n",
        "*   The sales department is having a maximum no.of employee followed by technical and support\n",
        "*   Most of the employees are getting a salary either medium or low."
      ],
      "metadata": {
        "id": "TdJxaY_k4tz-"
      }
    },
    {
      "cell_type": "markdown",
      "source": [
        "Now lets do some data preprocessing"
      ],
      "metadata": {
        "id": "LiUHORdL5zbl"
      }
    },
    {
      "cell_type": "code",
      "source": [
        "from sklearn import preprocessing\n",
        "\n",
        "le = preprocessing.LabelEncoder() # Creating labelEncoder\n",
        "\n",
        "# Converting string labels into numbers.\n",
        "data['salary']=le.fit_transform(data['salary'])\n",
        "data['sales']=le.fit_transform(data['sales'])"
      ],
      "metadata": {
        "id": "aLoJirTr4lzH"
      },
      "execution_count": 8,
      "outputs": []
    },
    {
      "cell_type": "markdown",
      "source": [
        "Let's split the data"
      ],
      "metadata": {
        "id": "xJtrFH266jJz"
      }
    },
    {
      "cell_type": "code",
      "source": [
        "from sklearn.preprocessing import StandardScaler\n",
        "\n",
        "X = data.drop(['left'], axis=1)\n",
        "y = data['left']\n",
        "\n",
        "# Scaling features\n",
        "sc = StandardScaler()\n",
        "X = sc.fit_transform(X)"
      ],
      "metadata": {
        "id": "4qmnAg1A6YUS"
      },
      "execution_count": 9,
      "outputs": []
    },
    {
      "cell_type": "code",
      "source": [
        "from sklearn.model_selection import train_test_split\n",
        "\n",
        "X_train, X_test, y_train, y_test = train_test_split(X, y, test_size=0.2, random_state=42)  # 80% training and 20% test"
      ],
      "metadata": {
        "id": "Bf7Rmtlf7iGN"
      },
      "execution_count": 10,
      "outputs": []
    },
    {
      "cell_type": "code",
      "source": [
        "from sklearn.neural_network import MLPClassifier\n",
        "\n",
        "clf = MLPClassifier(hidden_layer_sizes=(6,5),\n",
        "                    activation='logistic',\n",
        "                    solver='sgd',\n",
        "                    verbose=True,\n",
        "                    max_iter=250,\n",
        "                    validation_fraction=0.2,\n",
        "                    learning_rate_init=0.01)"
      ],
      "metadata": {
        "id": "djit3sT19F6u"
      },
      "execution_count": 11,
      "outputs": []
    },
    {
      "cell_type": "markdown",
      "source": [
        "Parameters:\n",
        "\n",
        "*  hidden_layer_sizes: It is a tuple where each element represents one layer and its value represents the number of neurons on each hidden layer.\n",
        "*  activation: Activation function for the hidden layer.\n",
        "*  solver: optimization algorthm.\n",
        "*  learning_rate_init: It is used to control the step-size in updating the weights. \n",
        "*  validation_fraction: The proportion of training data to set aside as validation set. \n",
        "*  verbose: It is used to print progress messages to standard output."
      ],
      "metadata": {
        "id": "MECWwZG-9jAC"
      }
    },
    {
      "cell_type": "code",
      "source": [
        "# Fit data onto the model\n",
        "clf.fit(X_train,y_train)"
      ],
      "metadata": {
        "id": "zncNOGHc9NK-",
        "outputId": "8052cebe-3cb6-4cb3-9a3f-75b4714a8fd9",
        "colab": {
          "base_uri": "https://localhost:8080/"
        }
      },
      "execution_count": 12,
      "outputs": [
        {
          "output_type": "stream",
          "name": "stdout",
          "text": [
            "Iteration 1, loss = 0.62490700\n",
            "Iteration 2, loss = 0.55088403\n",
            "Iteration 3, loss = 0.55036744\n",
            "Iteration 4, loss = 0.54990001\n",
            "Iteration 5, loss = 0.54949996\n",
            "Iteration 6, loss = 0.54905987\n",
            "Iteration 7, loss = 0.54862766\n",
            "Iteration 8, loss = 0.54822888\n",
            "Iteration 9, loss = 0.54769640\n",
            "Iteration 10, loss = 0.54716168\n",
            "Iteration 11, loss = 0.54651302\n",
            "Iteration 12, loss = 0.54580782\n",
            "Iteration 13, loss = 0.54503752\n",
            "Iteration 14, loss = 0.54411714\n",
            "Iteration 15, loss = 0.54309919\n",
            "Iteration 16, loss = 0.54184942\n",
            "Iteration 17, loss = 0.54036676\n",
            "Iteration 18, loss = 0.53866268\n",
            "Iteration 19, loss = 0.53651504\n",
            "Iteration 20, loss = 0.53415273\n",
            "Iteration 21, loss = 0.53115625\n",
            "Iteration 22, loss = 0.52760441\n",
            "Iteration 23, loss = 0.52347327\n",
            "Iteration 24, loss = 0.51861794\n",
            "Iteration 25, loss = 0.51294619\n",
            "Iteration 26, loss = 0.50647224\n",
            "Iteration 27, loss = 0.49925149\n",
            "Iteration 28, loss = 0.49135503\n",
            "Iteration 29, loss = 0.48294873\n",
            "Iteration 30, loss = 0.47426088\n",
            "Iteration 31, loss = 0.46547421\n",
            "Iteration 32, loss = 0.45688985\n",
            "Iteration 33, loss = 0.44858876\n",
            "Iteration 34, loss = 0.44058971\n",
            "Iteration 35, loss = 0.43320721\n",
            "Iteration 36, loss = 0.42631582\n",
            "Iteration 37, loss = 0.42001071\n",
            "Iteration 38, loss = 0.41423772\n",
            "Iteration 39, loss = 0.40905538\n",
            "Iteration 40, loss = 0.40432615\n",
            "Iteration 41, loss = 0.39998481\n",
            "Iteration 42, loss = 0.39607613\n",
            "Iteration 43, loss = 0.39250873\n",
            "Iteration 44, loss = 0.38922238\n",
            "Iteration 45, loss = 0.38617586\n",
            "Iteration 46, loss = 0.38338764\n",
            "Iteration 47, loss = 0.38073256\n",
            "Iteration 48, loss = 0.37826000\n",
            "Iteration 49, loss = 0.37592270\n",
            "Iteration 50, loss = 0.37366935\n",
            "Iteration 51, loss = 0.37143730\n",
            "Iteration 52, loss = 0.36942721\n",
            "Iteration 53, loss = 0.36722841\n",
            "Iteration 54, loss = 0.36521013\n",
            "Iteration 55, loss = 0.36319769\n",
            "Iteration 56, loss = 0.36121268\n",
            "Iteration 57, loss = 0.35914057\n",
            "Iteration 58, loss = 0.35723372\n",
            "Iteration 59, loss = 0.35502892\n",
            "Iteration 60, loss = 0.35292848\n",
            "Iteration 61, loss = 0.35081849\n",
            "Iteration 62, loss = 0.34863037\n",
            "Iteration 63, loss = 0.34634695\n",
            "Iteration 64, loss = 0.34403580\n",
            "Iteration 65, loss = 0.34173050\n",
            "Iteration 66, loss = 0.33921906\n",
            "Iteration 67, loss = 0.33678567\n",
            "Iteration 68, loss = 0.33411452\n",
            "Iteration 69, loss = 0.33140296\n",
            "Iteration 70, loss = 0.32860824\n",
            "Iteration 71, loss = 0.32568143\n",
            "Iteration 72, loss = 0.32275853\n",
            "Iteration 73, loss = 0.31949612\n",
            "Iteration 74, loss = 0.31621927\n",
            "Iteration 75, loss = 0.31288548\n",
            "Iteration 76, loss = 0.30954043\n",
            "Iteration 77, loss = 0.30611577\n",
            "Iteration 78, loss = 0.30263153\n",
            "Iteration 79, loss = 0.29915616\n",
            "Iteration 80, loss = 0.29557643\n",
            "Iteration 81, loss = 0.29218730\n",
            "Iteration 82, loss = 0.28872663\n",
            "Iteration 83, loss = 0.28529717\n",
            "Iteration 84, loss = 0.28189925\n",
            "Iteration 85, loss = 0.27849293\n",
            "Iteration 86, loss = 0.27521612\n",
            "Iteration 87, loss = 0.27171656\n",
            "Iteration 88, loss = 0.26849047\n",
            "Iteration 89, loss = 0.26527913\n",
            "Iteration 90, loss = 0.26200018\n",
            "Iteration 91, loss = 0.25886045\n",
            "Iteration 92, loss = 0.25582037\n",
            "Iteration 93, loss = 0.25272348\n",
            "Iteration 94, loss = 0.24975130\n",
            "Iteration 95, loss = 0.24672273\n",
            "Iteration 96, loss = 0.24374887\n",
            "Iteration 97, loss = 0.24077877\n",
            "Iteration 98, loss = 0.23785070\n",
            "Iteration 99, loss = 0.23497706\n",
            "Iteration 100, loss = 0.23212650\n",
            "Iteration 101, loss = 0.22927682\n",
            "Iteration 102, loss = 0.22641204\n",
            "Iteration 103, loss = 0.22355884\n",
            "Iteration 104, loss = 0.22084705\n",
            "Iteration 105, loss = 0.21790411\n",
            "Iteration 106, loss = 0.21514214\n",
            "Iteration 107, loss = 0.21235435\n",
            "Iteration 108, loss = 0.20945400\n",
            "Iteration 109, loss = 0.20674735\n",
            "Iteration 110, loss = 0.20391622\n",
            "Iteration 111, loss = 0.20106488\n",
            "Iteration 112, loss = 0.19841947\n",
            "Iteration 113, loss = 0.19554592\n",
            "Iteration 114, loss = 0.19276699\n",
            "Iteration 115, loss = 0.19003555\n",
            "Iteration 116, loss = 0.18754177\n",
            "Iteration 117, loss = 0.18489464\n",
            "Iteration 118, loss = 0.18217445\n",
            "Iteration 119, loss = 0.17983715\n",
            "Iteration 120, loss = 0.17733789\n",
            "Iteration 121, loss = 0.17511194\n",
            "Iteration 122, loss = 0.17279320\n",
            "Iteration 123, loss = 0.17070871\n",
            "Iteration 124, loss = 0.16872343\n",
            "Iteration 125, loss = 0.16665324\n",
            "Iteration 126, loss = 0.16483639\n",
            "Iteration 127, loss = 0.16311530\n",
            "Iteration 128, loss = 0.16154295\n",
            "Iteration 129, loss = 0.15984078\n",
            "Iteration 130, loss = 0.15848311\n",
            "Iteration 131, loss = 0.15704955\n",
            "Iteration 132, loss = 0.15573740\n",
            "Iteration 133, loss = 0.15451438\n",
            "Iteration 134, loss = 0.15338834\n",
            "Iteration 135, loss = 0.15233274\n",
            "Iteration 136, loss = 0.15126520\n",
            "Iteration 137, loss = 0.15030068\n",
            "Iteration 138, loss = 0.14945288\n",
            "Iteration 139, loss = 0.14856503\n",
            "Iteration 140, loss = 0.14784721\n",
            "Iteration 141, loss = 0.14704638\n",
            "Iteration 142, loss = 0.14639697\n",
            "Iteration 143, loss = 0.14575781\n",
            "Iteration 144, loss = 0.14512832\n",
            "Iteration 145, loss = 0.14451087\n",
            "Iteration 146, loss = 0.14396104\n",
            "Iteration 147, loss = 0.14350145\n",
            "Iteration 148, loss = 0.14293378\n",
            "Iteration 149, loss = 0.14257756\n",
            "Iteration 150, loss = 0.14214791\n",
            "Iteration 151, loss = 0.14176350\n",
            "Iteration 152, loss = 0.14142390\n",
            "Iteration 153, loss = 0.14100900\n",
            "Iteration 154, loss = 0.14067518\n",
            "Iteration 155, loss = 0.14034415\n",
            "Iteration 156, loss = 0.13996957\n",
            "Iteration 157, loss = 0.13969643\n",
            "Iteration 158, loss = 0.13953111\n",
            "Iteration 159, loss = 0.13910725\n",
            "Iteration 160, loss = 0.13884070\n",
            "Iteration 161, loss = 0.13863619\n",
            "Iteration 162, loss = 0.13849197\n",
            "Iteration 163, loss = 0.13822296\n",
            "Iteration 164, loss = 0.13791718\n",
            "Iteration 165, loss = 0.13779244\n",
            "Iteration 166, loss = 0.13750971\n",
            "Iteration 167, loss = 0.13736359\n",
            "Iteration 168, loss = 0.13714048\n",
            "Iteration 169, loss = 0.13692189\n",
            "Iteration 170, loss = 0.13686278\n",
            "Iteration 171, loss = 0.13664663\n",
            "Iteration 172, loss = 0.13651171\n",
            "Iteration 173, loss = 0.13632002\n",
            "Iteration 174, loss = 0.13618851\n",
            "Iteration 175, loss = 0.13602208\n",
            "Iteration 176, loss = 0.13590837\n",
            "Iteration 177, loss = 0.13572393\n",
            "Iteration 178, loss = 0.13560968\n",
            "Iteration 179, loss = 0.13544828\n",
            "Iteration 180, loss = 0.13532168\n",
            "Iteration 181, loss = 0.13530809\n",
            "Iteration 182, loss = 0.13519335\n",
            "Iteration 183, loss = 0.13505263\n",
            "Iteration 184, loss = 0.13495060\n",
            "Iteration 185, loss = 0.13477872\n",
            "Iteration 186, loss = 0.13473339\n",
            "Iteration 187, loss = 0.13461889\n",
            "Iteration 188, loss = 0.13444653\n",
            "Iteration 189, loss = 0.13444987\n",
            "Iteration 190, loss = 0.13429937\n",
            "Iteration 191, loss = 0.13423609\n",
            "Iteration 192, loss = 0.13407157\n",
            "Iteration 193, loss = 0.13402267\n",
            "Iteration 194, loss = 0.13394990\n",
            "Iteration 195, loss = 0.13388284\n",
            "Iteration 196, loss = 0.13372436\n",
            "Iteration 197, loss = 0.13367654\n",
            "Iteration 198, loss = 0.13357644\n",
            "Iteration 199, loss = 0.13353765\n",
            "Iteration 200, loss = 0.13345042\n",
            "Iteration 201, loss = 0.13334292\n",
            "Iteration 202, loss = 0.13324036\n",
            "Iteration 203, loss = 0.13323598\n",
            "Iteration 204, loss = 0.13312801\n",
            "Iteration 205, loss = 0.13314029\n",
            "Iteration 206, loss = 0.13300244\n",
            "Iteration 207, loss = 0.13303189\n",
            "Iteration 208, loss = 0.13291149\n",
            "Iteration 209, loss = 0.13281663\n",
            "Iteration 210, loss = 0.13274883\n",
            "Iteration 211, loss = 0.13269382\n",
            "Iteration 212, loss = 0.13263573\n",
            "Iteration 213, loss = 0.13256923\n",
            "Iteration 214, loss = 0.13244830\n",
            "Iteration 215, loss = 0.13247441\n",
            "Iteration 216, loss = 0.13233363\n",
            "Iteration 217, loss = 0.13241698\n",
            "Iteration 218, loss = 0.13232732\n",
            "Iteration 219, loss = 0.13226391\n",
            "Iteration 220, loss = 0.13231214\n",
            "Iteration 221, loss = 0.13227140\n",
            "Iteration 222, loss = 0.13210007\n",
            "Iteration 223, loss = 0.13205427\n",
            "Iteration 224, loss = 0.13199067\n",
            "Iteration 225, loss = 0.13201110\n",
            "Iteration 226, loss = 0.13195410\n",
            "Iteration 227, loss = 0.13183810\n",
            "Iteration 228, loss = 0.13172266\n",
            "Iteration 229, loss = 0.13179076\n",
            "Iteration 230, loss = 0.13171386\n",
            "Iteration 231, loss = 0.13162598\n",
            "Iteration 232, loss = 0.13156328\n",
            "Iteration 233, loss = 0.13156742\n",
            "Iteration 234, loss = 0.13147381\n",
            "Iteration 235, loss = 0.13152127\n",
            "Iteration 236, loss = 0.13153396\n",
            "Iteration 237, loss = 0.13134256\n",
            "Iteration 238, loss = 0.13138290\n",
            "Iteration 239, loss = 0.13133900\n",
            "Iteration 240, loss = 0.13124066\n",
            "Iteration 241, loss = 0.13123197\n",
            "Iteration 242, loss = 0.13119980\n",
            "Iteration 243, loss = 0.13118820\n",
            "Iteration 244, loss = 0.13105508\n",
            "Iteration 245, loss = 0.13114307\n",
            "Iteration 246, loss = 0.13105060\n",
            "Iteration 247, loss = 0.13092707\n",
            "Iteration 248, loss = 0.13107175\n",
            "Iteration 249, loss = 0.13089424\n",
            "Iteration 250, loss = 0.13083858\n"
          ]
        },
        {
          "output_type": "stream",
          "name": "stderr",
          "text": [
            "/usr/local/lib/python3.7/dist-packages/sklearn/neural_network/_multilayer_perceptron.py:696: ConvergenceWarning: Stochastic Optimizer: Maximum iterations (250) reached and the optimization hasn't converged yet.\n",
            "  ConvergenceWarning,\n"
          ]
        },
        {
          "output_type": "execute_result",
          "data": {
            "text/plain": [
              "MLPClassifier(activation='logistic', hidden_layer_sizes=(6, 5),\n",
              "              learning_rate_init=0.01, max_iter=250, solver='sgd',\n",
              "              validation_fraction=0.2, verbose=True)"
            ]
          },
          "metadata": {},
          "execution_count": 12
        }
      ]
    },
    {
      "cell_type": "code",
      "source": [
        "# Make prediction on test dataset\n",
        "ypred=clf.predict(X_test)"
      ],
      "metadata": {
        "id": "VUVh8Uiq-lNc"
      },
      "execution_count": 13,
      "outputs": []
    },
    {
      "cell_type": "code",
      "source": [
        "# Import accuracy score \n",
        "from sklearn.metrics import accuracy_score\n",
        "\n",
        "# Calcuate accuracy\n",
        "accuracy_score(y_test,ypred)"
      ],
      "metadata": {
        "colab": {
          "base_uri": "https://localhost:8080/"
        },
        "id": "mRoqDjD5-pry",
        "outputId": "22a07bde-18f1-4db7-afa6-d9f236a81261"
      },
      "execution_count": 14,
      "outputs": [
        {
          "output_type": "execute_result",
          "data": {
            "text/plain": [
              "0.9573333333333334"
            ]
          },
          "metadata": {},
          "execution_count": 14
        }
      ]
    },
    {
      "cell_type": "markdown",
      "source": [
        "## Let's model the network using KERAS instead of MLPClassifier."
      ],
      "metadata": {
        "id": "hAAJr5cq5OUJ"
      }
    },
    {
      "cell_type": "markdown",
      "source": [
        "![image.png](data:image/png;base64,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)"
      ],
      "metadata": {
        "id": "1v07a4by6O2p"
      }
    },
    {
      "cell_type": "markdown",
      "source": [
        "# Keras Components"
      ],
      "metadata": {
        "id": "sULphlK16r0A"
      }
    },
    {
      "cell_type": "markdown",
      "source": [
        "*  Sequential Model: Keras provide an easy way to create multi-layer perception using the Sequential model. \n",
        "*  Add Layer: add() function is used to add a layer to the neural network. We need to pass the type of layer we want to add to the sequential model.\n",
        "*  Dense Layer: It is a fully connected layer of neurons. It takes a number of nodes, activation function, and input_shape as the input parameters.\n",
        "*  Model Compilation: It is used to compile the model. It takes optimizer and loss function as the input parameters.\n",
        "*  Model Training: the fit() function used to train the model. It takes the following parameters as input: training data, validation data, and the number of epochs.\n",
        "*  Make Predictions: the predict() function is used to make predictions on new input data. \n",
        "*  Model Evaluation: the evaluate() function is used to assess the model performance. it takes test features and labels as input."
      ],
      "metadata": {
        "id": "-aroU7_X6upA"
      }
    },
    {
      "cell_type": "markdown",
      "source": [
        "Now lets create a simple neural network in Keras for the above discussed problem"
      ],
      "metadata": {
        "id": "sA-mFI0N7a_F"
      }
    },
    {
      "cell_type": "code",
      "source": [
        "import numpy as np\n",
        "import pandas as pd\n",
        "\n",
        "# Load data\n",
        "data=pd.read_csv('HR_comma_sep (2).csv')\n",
        "\n",
        "data.head()"
      ],
      "metadata": {
        "id": "BBSADflZ5F_A",
        "outputId": "1f13ff07-955a-43c7-fff4-009c7c8ad584",
        "colab": {
          "base_uri": "https://localhost:8080/",
          "height": 206
        }
      },
      "execution_count": 17,
      "outputs": [
        {
          "output_type": "execute_result",
          "data": {
            "text/html": [
              "\n",
              "  <div id=\"df-cd7f45c0-a06b-429c-a7f5-4ef25d1a8d71\">\n",
              "    <div class=\"colab-df-container\">\n",
              "      <div>\n",
              "<style scoped>\n",
              "    .dataframe tbody tr th:only-of-type {\n",
              "        vertical-align: middle;\n",
              "    }\n",
              "\n",
              "    .dataframe tbody tr th {\n",
              "        vertical-align: top;\n",
              "    }\n",
              "\n",
              "    .dataframe thead th {\n",
              "        text-align: right;\n",
              "    }\n",
              "</style>\n",
              "<table border=\"1\" class=\"dataframe\">\n",
              "  <thead>\n",
              "    <tr style=\"text-align: right;\">\n",
              "      <th></th>\n",
              "      <th>satisfaction_level</th>\n",
              "      <th>last_evaluation</th>\n",
              "      <th>number_project</th>\n",
              "      <th>average_montly_hours</th>\n",
              "      <th>time_spend_company</th>\n",
              "      <th>Work_accident</th>\n",
              "      <th>left</th>\n",
              "      <th>promotion_last_5years</th>\n",
              "      <th>sales</th>\n",
              "      <th>salary</th>\n",
              "    </tr>\n",
              "  </thead>\n",
              "  <tbody>\n",
              "    <tr>\n",
              "      <th>0</th>\n",
              "      <td>0.38</td>\n",
              "      <td>0.53</td>\n",
              "      <td>2</td>\n",
              "      <td>157</td>\n",
              "      <td>3</td>\n",
              "      <td>0</td>\n",
              "      <td>1</td>\n",
              "      <td>0</td>\n",
              "      <td>sales</td>\n",
              "      <td>low</td>\n",
              "    </tr>\n",
              "    <tr>\n",
              "      <th>1</th>\n",
              "      <td>0.80</td>\n",
              "      <td>0.86</td>\n",
              "      <td>5</td>\n",
              "      <td>262</td>\n",
              "      <td>6</td>\n",
              "      <td>0</td>\n",
              "      <td>1</td>\n",
              "      <td>0</td>\n",
              "      <td>sales</td>\n",
              "      <td>medium</td>\n",
              "    </tr>\n",
              "    <tr>\n",
              "      <th>2</th>\n",
              "      <td>0.11</td>\n",
              "      <td>0.88</td>\n",
              "      <td>7</td>\n",
              "      <td>272</td>\n",
              "      <td>4</td>\n",
              "      <td>0</td>\n",
              "      <td>1</td>\n",
              "      <td>0</td>\n",
              "      <td>sales</td>\n",
              "      <td>medium</td>\n",
              "    </tr>\n",
              "    <tr>\n",
              "      <th>3</th>\n",
              "      <td>0.72</td>\n",
              "      <td>0.87</td>\n",
              "      <td>5</td>\n",
              "      <td>223</td>\n",
              "      <td>5</td>\n",
              "      <td>0</td>\n",
              "      <td>1</td>\n",
              "      <td>0</td>\n",
              "      <td>sales</td>\n",
              "      <td>low</td>\n",
              "    </tr>\n",
              "    <tr>\n",
              "      <th>4</th>\n",
              "      <td>0.37</td>\n",
              "      <td>0.52</td>\n",
              "      <td>2</td>\n",
              "      <td>159</td>\n",
              "      <td>3</td>\n",
              "      <td>0</td>\n",
              "      <td>1</td>\n",
              "      <td>0</td>\n",
              "      <td>sales</td>\n",
              "      <td>low</td>\n",
              "    </tr>\n",
              "  </tbody>\n",
              "</table>\n",
              "</div>\n",
              "      <button class=\"colab-df-convert\" onclick=\"convertToInteractive('df-cd7f45c0-a06b-429c-a7f5-4ef25d1a8d71')\"\n",
              "              title=\"Convert this dataframe to an interactive table.\"\n",
              "              style=\"display:none;\">\n",
              "        \n",
              "  <svg xmlns=\"http://www.w3.org/2000/svg\" height=\"24px\"viewBox=\"0 0 24 24\"\n",
              "       width=\"24px\">\n",
              "    <path d=\"M0 0h24v24H0V0z\" fill=\"none\"/>\n",
              "    <path d=\"M18.56 5.44l.94 2.06.94-2.06 2.06-.94-2.06-.94-.94-2.06-.94 2.06-2.06.94zm-11 1L8.5 8.5l.94-2.06 2.06-.94-2.06-.94L8.5 2.5l-.94 2.06-2.06.94zm10 10l.94 2.06.94-2.06 2.06-.94-2.06-.94-.94-2.06-.94 2.06-2.06.94z\"/><path d=\"M17.41 7.96l-1.37-1.37c-.4-.4-.92-.59-1.43-.59-.52 0-1.04.2-1.43.59L10.3 9.45l-7.72 7.72c-.78.78-.78 2.05 0 2.83L4 21.41c.39.39.9.59 1.41.59.51 0 1.02-.2 1.41-.59l7.78-7.78 2.81-2.81c.8-.78.8-2.07 0-2.86zM5.41 20L4 18.59l7.72-7.72 1.47 1.35L5.41 20z\"/>\n",
              "  </svg>\n",
              "      </button>\n",
              "      \n",
              "  <style>\n",
              "    .colab-df-container {\n",
              "      display:flex;\n",
              "      flex-wrap:wrap;\n",
              "      gap: 12px;\n",
              "    }\n",
              "\n",
              "    .colab-df-convert {\n",
              "      background-color: #E8F0FE;\n",
              "      border: none;\n",
              "      border-radius: 50%;\n",
              "      cursor: pointer;\n",
              "      display: none;\n",
              "      fill: #1967D2;\n",
              "      height: 32px;\n",
              "      padding: 0 0 0 0;\n",
              "      width: 32px;\n",
              "    }\n",
              "\n",
              "    .colab-df-convert:hover {\n",
              "      background-color: #E2EBFA;\n",
              "      box-shadow: 0px 1px 2px rgba(60, 64, 67, 0.3), 0px 1px 3px 1px rgba(60, 64, 67, 0.15);\n",
              "      fill: #174EA6;\n",
              "    }\n",
              "\n",
              "    [theme=dark] .colab-df-convert {\n",
              "      background-color: #3B4455;\n",
              "      fill: #D2E3FC;\n",
              "    }\n",
              "\n",
              "    [theme=dark] .colab-df-convert:hover {\n",
              "      background-color: #434B5C;\n",
              "      box-shadow: 0px 1px 3px 1px rgba(0, 0, 0, 0.15);\n",
              "      filter: drop-shadow(0px 1px 2px rgba(0, 0, 0, 0.3));\n",
              "      fill: #FFFFFF;\n",
              "    }\n",
              "  </style>\n",
              "\n",
              "      <script>\n",
              "        const buttonEl =\n",
              "          document.querySelector('#df-cd7f45c0-a06b-429c-a7f5-4ef25d1a8d71 button.colab-df-convert');\n",
              "        buttonEl.style.display =\n",
              "          google.colab.kernel.accessAllowed ? 'block' : 'none';\n",
              "\n",
              "        async function convertToInteractive(key) {\n",
              "          const element = document.querySelector('#df-cd7f45c0-a06b-429c-a7f5-4ef25d1a8d71');\n",
              "          const dataTable =\n",
              "            await google.colab.kernel.invokeFunction('convertToInteractive',\n",
              "                                                     [key], {});\n",
              "          if (!dataTable) return;\n",
              "\n",
              "          const docLinkHtml = 'Like what you see? Visit the ' +\n",
              "            '<a target=\"_blank\" href=https://colab.research.google.com/notebooks/data_table.ipynb>data table notebook</a>'\n",
              "            + ' to learn more about interactive tables.';\n",
              "          element.innerHTML = '';\n",
              "          dataTable['output_type'] = 'display_data';\n",
              "          await google.colab.output.renderOutput(dataTable, element);\n",
              "          const docLink = document.createElement('div');\n",
              "          docLink.innerHTML = docLinkHtml;\n",
              "          element.appendChild(docLink);\n",
              "        }\n",
              "      </script>\n",
              "    </div>\n",
              "  </div>\n",
              "  "
            ],
            "text/plain": [
              "   satisfaction_level  last_evaluation  ...  sales  salary\n",
              "0                0.38             0.53  ...  sales     low\n",
              "1                0.80             0.86  ...  sales  medium\n",
              "2                0.11             0.88  ...  sales  medium\n",
              "3                0.72             0.87  ...  sales     low\n",
              "4                0.37             0.52  ...  sales     low\n",
              "\n",
              "[5 rows x 10 columns]"
            ]
          },
          "metadata": {},
          "execution_count": 17
        }
      ]
    },
    {
      "cell_type": "markdown",
      "source": [
        "Machine learning algorithms require numerical input data, so you need to represent categorical columns in a numerical column. In order to encode this data, you could map each value to a number. e.g. Salary column’s value can be represented as low:0, medium:1, and high:2. This process is known as label encoding. In sklearn, we can do this using LabelEncoder."
      ],
      "metadata": {
        "id": "71DuL50o8kvZ"
      }
    },
    {
      "cell_type": "code",
      "source": [
        "# Import LabelEncoder\n",
        "from sklearn import preprocessing\n",
        "from sklearn.preprocessing import StandardScaler\n",
        "\n",
        "# Creating labelEncoder\n",
        "le = preprocessing.LabelEncoder()\n",
        "\n",
        "# Converting string labels into numbers.\n",
        "data['salary']=le.fit_transform(data['salary'])\n",
        "data['sales']=le.fit_transform(data['sales'])\n",
        "\n",
        "X = data.drop(['left'], axis=1)\n",
        "y = data['left']\n",
        "\n",
        "# Convert dataframes into numpy array\n",
        "X = X.values\n",
        "y = y.values\n",
        "\n",
        "# Scaling features\n",
        "sc = StandardScaler()\n",
        "X = sc.fit_transform(X)"
      ],
      "metadata": {
        "id": "s0Cpc-vN8Mi1"
      },
      "execution_count": 18,
      "outputs": []
    },
    {
      "cell_type": "code",
      "source": [
        "from sklearn.model_selection import train_test_split\n",
        "\n",
        "# Split dataset into training set and test set\n",
        "X_train, X_test, y_train, y_test = train_test_split(X, y, test_size=0.3, random_state=42)  # 70% training and 30% test"
      ],
      "metadata": {
        "id": "Im041WFW98ng"
      },
      "execution_count": 19,
      "outputs": []
    },
    {
      "cell_type": "code",
      "source": [
        "from keras.models import Sequential\n",
        "from keras.layers import Dense\n",
        "\n",
        "# Neural network\n",
        "model = Sequential()\n",
        "\n",
        "# Input layers\n",
        "model.add(Dense(6, input_dim=9, activation='relu'))\n",
        "\n",
        "# hidden layers\n",
        "model.add(Dense(4, activation='relu'))\n",
        "\n",
        "# Output Layer\n",
        "model.add(Dense(1, activation='sigmoid'))"
      ],
      "metadata": {
        "id": "io8Veb1cAbTg"
      },
      "execution_count": 20,
      "outputs": []
    },
    {
      "cell_type": "code",
      "source": [
        "model.compile(loss='binary_crossentropy', \n",
        "              optimizer='adam', \n",
        "              metrics=['accuracy'])\n",
        "\n",
        "history = model.fit(X_train, y_train, epochs=50, batch_size=64, validation_data=(X_test, y_test))"
      ],
      "metadata": {
        "id": "2IFIFRA6Ad5o",
        "outputId": "d032218a-8a46-4e64-c846-91f015e2d227",
        "colab": {
          "base_uri": "https://localhost:8080/"
        }
      },
      "execution_count": 21,
      "outputs": [
        {
          "output_type": "stream",
          "name": "stdout",
          "text": [
            "Epoch 1/50\n",
            "165/165 [==============================] - 2s 7ms/step - loss: 0.7016 - accuracy: 0.5887 - val_loss: 0.6017 - val_accuracy: 0.7489\n",
            "Epoch 2/50\n",
            "165/165 [==============================] - 1s 3ms/step - loss: 0.5347 - accuracy: 0.7766 - val_loss: 0.4716 - val_accuracy: 0.7987\n",
            "Epoch 3/50\n",
            "165/165 [==============================] - 1s 3ms/step - loss: 0.3913 - accuracy: 0.8362 - val_loss: 0.3332 - val_accuracy: 0.8829\n",
            "Epoch 4/50\n",
            "165/165 [==============================] - 1s 3ms/step - loss: 0.2841 - accuracy: 0.9046 - val_loss: 0.2627 - val_accuracy: 0.9133\n",
            "Epoch 5/50\n",
            "165/165 [==============================] - 1s 3ms/step - loss: 0.2339 - accuracy: 0.9223 - val_loss: 0.2274 - val_accuracy: 0.9271\n",
            "Epoch 6/50\n",
            "165/165 [==============================] - 1s 3ms/step - loss: 0.2073 - accuracy: 0.9332 - val_loss: 0.2084 - val_accuracy: 0.9349\n",
            "Epoch 7/50\n",
            "165/165 [==============================] - 1s 3ms/step - loss: 0.1923 - accuracy: 0.9391 - val_loss: 0.1977 - val_accuracy: 0.9427\n",
            "Epoch 8/50\n",
            "165/165 [==============================] - 1s 3ms/step - loss: 0.1837 - accuracy: 0.9446 - val_loss: 0.1908 - val_accuracy: 0.9440\n",
            "Epoch 9/50\n",
            "165/165 [==============================] - 0s 3ms/step - loss: 0.1775 - accuracy: 0.9462 - val_loss: 0.1859 - val_accuracy: 0.9467\n",
            "Epoch 10/50\n",
            "165/165 [==============================] - 0s 2ms/step - loss: 0.1724 - accuracy: 0.9500 - val_loss: 0.1815 - val_accuracy: 0.9491\n",
            "Epoch 11/50\n",
            "165/165 [==============================] - 0s 3ms/step - loss: 0.1686 - accuracy: 0.9521 - val_loss: 0.1791 - val_accuracy: 0.9491\n",
            "Epoch 12/50\n",
            "165/165 [==============================] - 0s 2ms/step - loss: 0.1655 - accuracy: 0.9533 - val_loss: 0.1770 - val_accuracy: 0.9507\n",
            "Epoch 13/50\n",
            "165/165 [==============================] - 0s 2ms/step - loss: 0.1634 - accuracy: 0.9541 - val_loss: 0.1757 - val_accuracy: 0.9496\n",
            "Epoch 14/50\n",
            "165/165 [==============================] - 0s 2ms/step - loss: 0.1617 - accuracy: 0.9543 - val_loss: 0.1736 - val_accuracy: 0.9500\n",
            "Epoch 15/50\n",
            "165/165 [==============================] - 0s 2ms/step - loss: 0.1604 - accuracy: 0.9546 - val_loss: 0.1731 - val_accuracy: 0.9504\n",
            "Epoch 16/50\n",
            "165/165 [==============================] - 0s 2ms/step - loss: 0.1590 - accuracy: 0.9552 - val_loss: 0.1721 - val_accuracy: 0.9489\n",
            "Epoch 17/50\n",
            "165/165 [==============================] - 0s 2ms/step - loss: 0.1582 - accuracy: 0.9548 - val_loss: 0.1718 - val_accuracy: 0.9504\n",
            "Epoch 18/50\n",
            "165/165 [==============================] - 0s 3ms/step - loss: 0.1572 - accuracy: 0.9561 - val_loss: 0.1709 - val_accuracy: 0.9500\n",
            "Epoch 19/50\n",
            "165/165 [==============================] - 0s 2ms/step - loss: 0.1564 - accuracy: 0.9560 - val_loss: 0.1713 - val_accuracy: 0.9500\n",
            "Epoch 20/50\n",
            "165/165 [==============================] - 0s 2ms/step - loss: 0.1557 - accuracy: 0.9569 - val_loss: 0.1701 - val_accuracy: 0.9504\n",
            "Epoch 21/50\n",
            "165/165 [==============================] - 0s 2ms/step - loss: 0.1550 - accuracy: 0.9565 - val_loss: 0.1698 - val_accuracy: 0.9502\n",
            "Epoch 22/50\n",
            "165/165 [==============================] - 0s 2ms/step - loss: 0.1545 - accuracy: 0.9562 - val_loss: 0.1696 - val_accuracy: 0.9507\n",
            "Epoch 23/50\n",
            "165/165 [==============================] - 0s 2ms/step - loss: 0.1539 - accuracy: 0.9575 - val_loss: 0.1692 - val_accuracy: 0.9529\n",
            "Epoch 24/50\n",
            "165/165 [==============================] - 0s 2ms/step - loss: 0.1533 - accuracy: 0.9572 - val_loss: 0.1679 - val_accuracy: 0.9507\n",
            "Epoch 25/50\n",
            "165/165 [==============================] - 0s 2ms/step - loss: 0.1527 - accuracy: 0.9572 - val_loss: 0.1679 - val_accuracy: 0.9507\n",
            "Epoch 26/50\n",
            "165/165 [==============================] - 0s 2ms/step - loss: 0.1523 - accuracy: 0.9569 - val_loss: 0.1669 - val_accuracy: 0.9516\n",
            "Epoch 27/50\n",
            "165/165 [==============================] - 0s 2ms/step - loss: 0.1512 - accuracy: 0.9577 - val_loss: 0.1666 - val_accuracy: 0.9522\n",
            "Epoch 28/50\n",
            "165/165 [==============================] - 0s 2ms/step - loss: 0.1506 - accuracy: 0.9570 - val_loss: 0.1676 - val_accuracy: 0.9522\n",
            "Epoch 29/50\n",
            "165/165 [==============================] - 0s 2ms/step - loss: 0.1500 - accuracy: 0.9580 - val_loss: 0.1660 - val_accuracy: 0.9527\n",
            "Epoch 30/50\n",
            "165/165 [==============================] - 0s 2ms/step - loss: 0.1496 - accuracy: 0.9580 - val_loss: 0.1658 - val_accuracy: 0.9538\n",
            "Epoch 31/50\n",
            "165/165 [==============================] - 0s 2ms/step - loss: 0.1492 - accuracy: 0.9584 - val_loss: 0.1654 - val_accuracy: 0.9529\n",
            "Epoch 32/50\n",
            "165/165 [==============================] - 0s 2ms/step - loss: 0.1486 - accuracy: 0.9577 - val_loss: 0.1644 - val_accuracy: 0.9524\n",
            "Epoch 33/50\n",
            "165/165 [==============================] - 0s 2ms/step - loss: 0.1482 - accuracy: 0.9587 - val_loss: 0.1642 - val_accuracy: 0.9531\n",
            "Epoch 34/50\n",
            "165/165 [==============================] - 0s 3ms/step - loss: 0.1474 - accuracy: 0.9586 - val_loss: 0.1639 - val_accuracy: 0.9536\n",
            "Epoch 35/50\n",
            "165/165 [==============================] - 0s 2ms/step - loss: 0.1471 - accuracy: 0.9588 - val_loss: 0.1637 - val_accuracy: 0.9547\n",
            "Epoch 36/50\n",
            "165/165 [==============================] - 0s 2ms/step - loss: 0.1466 - accuracy: 0.9594 - val_loss: 0.1637 - val_accuracy: 0.9553\n",
            "Epoch 37/50\n",
            "165/165 [==============================] - 0s 2ms/step - loss: 0.1462 - accuracy: 0.9591 - val_loss: 0.1631 - val_accuracy: 0.9533\n",
            "Epoch 38/50\n",
            "165/165 [==============================] - 0s 2ms/step - loss: 0.1461 - accuracy: 0.9590 - val_loss: 0.1634 - val_accuracy: 0.9536\n",
            "Epoch 39/50\n",
            "165/165 [==============================] - 0s 2ms/step - loss: 0.1452 - accuracy: 0.9596 - val_loss: 0.1640 - val_accuracy: 0.9542\n",
            "Epoch 40/50\n",
            "165/165 [==============================] - 0s 2ms/step - loss: 0.1453 - accuracy: 0.9594 - val_loss: 0.1630 - val_accuracy: 0.9540\n",
            "Epoch 41/50\n",
            "165/165 [==============================] - 0s 2ms/step - loss: 0.1449 - accuracy: 0.9594 - val_loss: 0.1630 - val_accuracy: 0.9533\n",
            "Epoch 42/50\n",
            "165/165 [==============================] - 0s 2ms/step - loss: 0.1445 - accuracy: 0.9602 - val_loss: 0.1623 - val_accuracy: 0.9524\n",
            "Epoch 43/50\n",
            "165/165 [==============================] - 0s 2ms/step - loss: 0.1443 - accuracy: 0.9595 - val_loss: 0.1630 - val_accuracy: 0.9509\n",
            "Epoch 44/50\n",
            "165/165 [==============================] - 0s 2ms/step - loss: 0.1441 - accuracy: 0.9584 - val_loss: 0.1625 - val_accuracy: 0.9547\n",
            "Epoch 45/50\n",
            "165/165 [==============================] - 0s 2ms/step - loss: 0.1436 - accuracy: 0.9601 - val_loss: 0.1621 - val_accuracy: 0.9533\n",
            "Epoch 46/50\n",
            "165/165 [==============================] - 0s 3ms/step - loss: 0.1433 - accuracy: 0.9605 - val_loss: 0.1628 - val_accuracy: 0.9536\n",
            "Epoch 47/50\n",
            "165/165 [==============================] - 0s 2ms/step - loss: 0.1431 - accuracy: 0.9603 - val_loss: 0.1621 - val_accuracy: 0.9522\n",
            "Epoch 48/50\n",
            "165/165 [==============================] - 0s 2ms/step - loss: 0.1427 - accuracy: 0.9597 - val_loss: 0.1625 - val_accuracy: 0.9551\n",
            "Epoch 49/50\n",
            "165/165 [==============================] - 0s 2ms/step - loss: 0.1423 - accuracy: 0.9609 - val_loss: 0.1622 - val_accuracy: 0.9529\n",
            "Epoch 50/50\n",
            "165/165 [==============================] - 0s 2ms/step - loss: 0.1421 - accuracy: 0.9609 - val_loss: 0.1623 - val_accuracy: 0.9558\n"
          ]
        }
      ]
    },
    {
      "cell_type": "code",
      "source": [
        "score = model.evaluate(X_test, y_test,verbose=1)\n",
        "print(score) #loss and accuracy"
      ],
      "metadata": {
        "id": "9QOdN8XjGBpH",
        "outputId": "823be83e-82e1-4d93-a215-fd672e8d5230",
        "colab": {
          "base_uri": "https://localhost:8080/"
        }
      },
      "execution_count": 22,
      "outputs": [
        {
          "output_type": "stream",
          "name": "stdout",
          "text": [
            "141/141 [==============================] - 0s 1ms/step - loss: 0.1623 - accuracy: 0.9558\n",
            "[0.16233862936496735, 0.9557777643203735]\n"
          ]
        }
      ]
    },
    {
      "cell_type": "code",
      "source": [
        "import matplotlib.pyplot as plt\n",
        "\n",
        "plt.plot(history.history['accuracy'])\n",
        "plt.plot(history.history['val_accuracy'])\n",
        "plt.title('model accuracy')\n",
        "plt.ylabel('accuracy')\n",
        "plt.xlabel('epoch')\n",
        "plt.legend(['train', 'test'], loc='upper left')\n",
        "plt.show()"
      ],
      "metadata": {
        "id": "dptDzCQyH6hK",
        "outputId": "f3606320-7918-42d8-8913-dc936eba524a",
        "colab": {
          "base_uri": "https://localhost:8080/",
          "height": 295
        }
      },
      "execution_count": 23,
      "outputs": [
        {
          "output_type": "display_data",
          "data": {
            "image/png": "[encoded data removed]",
            "text/plain": [
              "<Figure size 432x288 with 1 Axes>"
            ]
          },
          "metadata": {
            "needs_background": "light"
          }
        }
      ]
    },
    {
      "cell_type": "code",
      "source": [
        "plt.plot(history.history['loss'])\n",
        "plt.plot(history.history['val_loss'])\n",
        "plt.title('model loss')\n",
        "plt.ylabel('loss')\n",
        "plt.xlabel('epoch')\n",
        "plt.legend(['train', 'test'], loc='upper right')\n",
        "plt.show()"
      ],
      "metadata": {
        "id": "bJVknRjBOjY4",
        "colab": {
          "base_uri": "https://localhost:8080/",
          "height": 295
        },
        "outputId": "970171a2-b6bf-4716-9ccf-d42296f20f3e"
      },
      "execution_count": 24,
      "outputs": [
        {
          "output_type": "display_data",
          "data": {
            "image/png": "[encoded data removed]",
            "text/plain": [
              "<Figure size 432x288 with 1 Axes>"
            ]
          },
          "metadata": {
            "needs_background": "light"
          }
        }
      ]
    }
  ]
}