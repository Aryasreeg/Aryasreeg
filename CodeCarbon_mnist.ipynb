{
  "nbformat": 4,
  "nbformat_minor": 0,
  "metadata": {
    "colab": {
      "name": "CodeCarbon_mnist.ipynb",
      "provenance": [],
      "collapsed_sections": [],
      "authorship_tag": "ABX9TyNNThuH/Urf5Xrp2+lhADco",
      "include_colab_link": true
    },
    "kernelspec": {
      "name": "python3",
      "display_name": "Python 3"
    },
    "language_info": {
      "name": "python"
    }
  },
  "cells": [
    {
      "cell_type": "markdown",
      "metadata": {
        "id": "view-in-github",
        "colab_type": "text"
      },
      "source": [
        "<a href=\"https://colab.research.google.com/github/Aryasreeg/Aryasreeg/blob/main/CodeCarbon_mnist.ipynb\" target=\"_parent\"><img src=\"https://colab.research.google.com/assets/colab-badge.svg\" alt=\"Open In Colab\"/></a>"
      ]
    },
    {
      "cell_type": "code",
      "source": [
        "! pip install codecarbon --quiet"
      ],
      "metadata": {
        "colab": {
          "base_uri": "https://localhost:8080/"
        },
        "id": "pC8w-PaU65H5",
        "outputId": "0a25c667-c031-4504-c709-9da420bec907"
      },
      "execution_count": 6,
      "outputs": [
        {
          "output_type": "stream",
          "name": "stdout",
          "text": [
            "\u001b[K     |████████████████████████████████| 174 kB 15.3 MB/s \n",
            "\u001b[K     |████████████████████████████████| 99 kB 8.6 MB/s \n",
            "\u001b[K     |████████████████████████████████| 64 kB 2.6 MB/s \n",
            "\u001b[K     |████████████████████████████████| 46 kB 4.5 MB/s \n",
            "\u001b[?25h  Building wheel for py-cpuinfo (setup.py) ... \u001b[?25l\u001b[?25hdone\n"
          ]
        }
      ]
    },
    {
      "cell_type": "code",
      "execution_count": 7,
      "metadata": {
        "colab": {
          "base_uri": "https://localhost:8080/"
        },
        "id": "8mq94VuV4ymW",
        "outputId": "3d981f9b-9fa1-4488-daf3-72706e120a08"
      },
      "outputs": [
        {
          "output_type": "stream",
          "name": "stdout",
          "text": [
            "Downloading data from https://storage.googleapis.com/tensorflow/tf-keras-datasets/mnist.npz\n",
            "11493376/11490434 [==============================] - 0s 0us/step\n",
            "11501568/11490434 [==============================] - 0s 0us/step\n"
          ]
        },
        {
          "output_type": "stream",
          "name": "stderr",
          "text": [
            "[codecarbon INFO @ 09:51:53] [setup] RAM Tracking...\n",
            "[codecarbon INFO @ 09:51:53] [setup] GPU Tracking...\n",
            "[codecarbon INFO @ 09:51:53] No GPU found.\n",
            "[codecarbon INFO @ 09:51:53] [setup] CPU Tracking...\n",
            "[codecarbon WARNING @ 09:51:53] No CPU tracking mode found. Falling back on CPU constant mode.\n",
            "[codecarbon WARNING @ 09:51:55] We saw that you have a Intel(R) Xeon(R) CPU @ 2.20GHz but we don't know it. Please contact us.\n",
            "[codecarbon INFO @ 09:51:55] CPU Model on constant consumption mode: Intel(R) Xeon(R) CPU @ 2.20GHz\n",
            "[codecarbon INFO @ 09:51:55] >>> Tracker's metadata:\n",
            "[codecarbon INFO @ 09:51:55]   Platform system: Linux-5.4.188+-x86_64-with-Ubuntu-18.04-bionic\n",
            "[codecarbon INFO @ 09:51:55]   Python version: 3.7.13\n",
            "[codecarbon INFO @ 09:51:55]   Available RAM : 12.683 GB\n",
            "[codecarbon INFO @ 09:51:55]   CPU count: 2\n",
            "[codecarbon INFO @ 09:51:55]   CPU model: Intel(R) Xeon(R) CPU @ 2.20GHz\n",
            "[codecarbon INFO @ 09:51:55]   GPU count: None\n",
            "[codecarbon INFO @ 09:51:55]   GPU model: None\n"
          ]
        },
        {
          "output_type": "stream",
          "name": "stdout",
          "text": [
            "Epoch 1/4\n",
            "1874/1875 [============================>.] - ETA: 0s - loss: 0.2965 - accuracy: 0.9143"
          ]
        },
        {
          "output_type": "stream",
          "name": "stderr",
          "text": [
            "[codecarbon INFO @ 09:52:01] Energy consumed for RAM : 0.000008 kWh. RAM Power : 4.755939960479736 W\n",
            "[codecarbon INFO @ 09:52:01] Energy consumed for all CPUs : 0.000071 kWh. All CPUs Power : 42.5 W\n",
            "[codecarbon INFO @ 09:52:01] 0.000079 kWh of electricity used since the begining.\n"
          ]
        },
        {
          "output_type": "stream",
          "name": "stdout",
          "text": [
            "\b\b\b\b\b\b\b\b\b\b\b\b\b\b\b\b\b\b\b\b\b\b\b\b\b\b\b\b\b\b\b\b\b\b\b\b\b\b\b\b\b\b\b\b\b\b\b\b\b\b\b\b\b\b\b\b\b\b\b\b\b\b\b\b\b\b\b\b\b\b\b\b\b\b\b\b\b\b\b\b\b\b\b\b\b\b\r1875/1875 [==============================] - 6s 3ms/step - loss: 0.2964 - accuracy: 0.9143\n",
            "Epoch 2/4\n",
            "1875/1875 [==============================] - ETA: 0s - loss: 0.1430 - accuracy: 0.9577"
          ]
        },
        {
          "output_type": "stream",
          "name": "stderr",
          "text": [
            "[codecarbon INFO @ 09:52:06] Energy consumed for RAM : 0.000015 kWh. RAM Power : 4.755939960479736 W\n",
            "[codecarbon INFO @ 09:52:06] Energy consumed for all CPUs : 0.000133 kWh. All CPUs Power : 42.5 W\n",
            "[codecarbon INFO @ 09:52:06] 0.000148 kWh of electricity used since the begining.\n"
          ]
        },
        {
          "output_type": "stream",
          "name": "stdout",
          "text": [
            "\b\b\b\b\b\b\b\b\b\b\b\b\b\b\b\b\b\b\b\b\b\b\b\b\b\b\b\b\b\b\b\b\b\b\b\b\b\b\b\b\b\b\b\b\b\b\b\b\b\b\b\b\b\b\b\b\b\b\b\b\b\b\b\b\b\b\b\b\b\b\b\b\b\b\b\b\b\b\b\b\b\b\b\b\b\b\r1875/1875 [==============================] - 5s 3ms/step - loss: 0.1430 - accuracy: 0.9577\n",
            "Epoch 3/4\n",
            "1386/1875 [=====================>........] - ETA: 1s - loss: 0.1099 - accuracy: 0.9667"
          ]
        },
        {
          "output_type": "stream",
          "name": "stderr",
          "text": [
            "[codecarbon INFO @ 09:52:10] Energy consumed for RAM : 0.000020 kWh. RAM Power : 4.755939960479736 W\n",
            "[codecarbon INFO @ 09:52:10] Energy consumed for all CPUs : 0.000177 kWh. All CPUs Power : 42.5 W\n",
            "[codecarbon INFO @ 09:52:10] 0.000197 kWh of electricity used since the begining.\n"
          ]
        },
        {
          "output_type": "stream",
          "name": "stdout",
          "text": [
            "1856/1875 [============================>.] - ETA: 0s - loss: 0.1074 - accuracy: 0.9674"
          ]
        },
        {
          "output_type": "stream",
          "name": "stderr",
          "text": [
            "[codecarbon INFO @ 09:52:11] Energy consumed for RAM : 0.000022 kWh. RAM Power : 4.755939960479736 W\n",
            "[codecarbon INFO @ 09:52:11] Energy consumed for all CPUs : 0.000193 kWh. All CPUs Power : 42.5 W\n",
            "[codecarbon INFO @ 09:52:11] 0.000215 kWh of electricity used since the begining.\n"
          ]
        },
        {
          "output_type": "stream",
          "name": "stdout",
          "text": [
            "\b\b\b\b\b\b\b\b\b\b\b\b\b\b\b\b\b\b\b\b\b\b\b\b\b\b\b\b\b\b\b\b\b\b\b\b\b\b\b\b\b\b\b\b\b\b\b\b\b\b\b\b\b\b\b\b\b\b\b\b\b\b\b\b\b\b\b\b\b\b\b\b\b\b\b\b\b\b\b\b\b\b\b\b\b\b\r1875/1875 [==============================] - 5s 3ms/step - loss: 0.1073 - accuracy: 0.9674\n",
            "Epoch 4/4\n",
            "1871/1875 [============================>.] - ETA: 0s - loss: 0.0863 - accuracy: 0.9736"
          ]
        },
        {
          "output_type": "stream",
          "name": "stderr",
          "text": [
            "[codecarbon INFO @ 09:52:17] Energy consumed for RAM : 0.000028 kWh. RAM Power : 4.755939960479736 W\n",
            "[codecarbon INFO @ 09:52:17] Energy consumed for all CPUs : 0.000254 kWh. All CPUs Power : 42.5 W\n",
            "[codecarbon INFO @ 09:52:17] 0.000283 kWh of electricity used since the begining.\n"
          ]
        },
        {
          "output_type": "stream",
          "name": "stdout",
          "text": [
            "\b\b\b\b\b\b\b\b\b\b\b\b\b\b\b\b\b\b\b\b\b\b\b\b\b\b\b\b\b\b\b\b\b\b\b\b\b\b\b\b\b\b\b\b\b\b\b\b\b\b\b\b\b\b\b\b\b\b\b\b\b\b\b\b\b\b\b\b\b\b\b\b\b\b\b\b\b\b\b\b\b\b\b\b\b\b\r1875/1875 [==============================] - 5s 3ms/step - loss: 0.0865 - accuracy: 0.9736\n"
          ]
        },
        {
          "output_type": "stream",
          "name": "stderr",
          "text": [
            "[codecarbon INFO @ 09:52:25] Energy consumed for RAM : 0.000040 kWh. RAM Power : 4.755939960479736 W\n",
            "[codecarbon INFO @ 09:52:25] Energy consumed for all CPUs : 0.000354 kWh. All CPUs Power : 42.5 W\n",
            "[codecarbon INFO @ 09:52:25] 0.000393 kWh of electricity used since the begining.\n",
            "[codecarbon INFO @ 09:52:37] Energy consumed for RAM : 0.000055 kWh. RAM Power : 4.755939960479736 W\n",
            "[codecarbon INFO @ 09:52:37] Energy consumed for all CPUs : 0.000492 kWh. All CPUs Power : 42.5 W\n",
            "[codecarbon INFO @ 09:52:37] 0.000547 kWh of electricity used since the begining.\n"
          ]
        },
        {
          "output_type": "stream",
          "name": "stdout",
          "text": [
            "Emissions: 0.0001739260920924836 kg\n"
          ]
        }
      ],
      "source": [
        "\n",
        "# Import required libraries.\n",
        "import tensorflow as tf # Tensorflow backend.\n",
        "from tensorflow.keras.callbacks import Callback # Callback object can perform actions at various steps of the model training.\n",
        "\n",
        "from codecarbon import EmissionsTracker # CodeCarbon EmissionsTracker for embedding CodeCarbon functionality.\n",
        "\n",
        "\"\"\"\n",
        "This sample code shows how to use CodeCarbon as a Keras Callback\n",
        "to save emissions after each epoch.\n",
        "\"\"\"\n",
        "\n",
        "class CodeCarbonCallBack(Callback):\n",
        "    \"\"\"\n",
        "    CodeCarbonCallback implements a trainer callback that can customize the behaviour of the\n",
        "    Keras training loop. The callback is called after each epoch.\n",
        "    This callback is used for tracking the CO2 emissions of training after each epoch.\n",
        "    \"\"\"\n",
        "    def __init__(self, codecarbon_tracker):\n",
        "        self.codecarbon_tracker = codecarbon_tracker\n",
        "        pass\n",
        "\n",
        "    def on_epoch_end(self, epoch, logs=None):\n",
        "        \"\"\"\n",
        "        Called at the end of an epoch during training.\n",
        "        \"\"\"\n",
        "        self.codecarbon_tracker.flush() # CodeCarbon flush() API for registering Carbon emissions.\n",
        "\n",
        "# Define the MNIST NumPy dataset for testing purposes.\n",
        "mnist = tf.keras.datasets.mnist\n",
        "\n",
        "(x_train, y_train), (x_test, y_test) = mnist.load_data() # Load the MNIST NumPy data and split it between train and test sets.\n",
        "x_train, x_test = x_train / 255.0, x_test / 255.0 # Scale images to the [0, 1] range.\n",
        "\n",
        "# Build the model.\n",
        "model = tf.keras.models.Sequential(\n",
        "    [\n",
        "        tf.keras.layers.Flatten(input_shape=(28, 28)),\n",
        "        tf.keras.layers.Dense(128, activation=\"relu\"),\n",
        "        tf.keras.layers.Dropout(0.2),\n",
        "        tf.keras.layers.Dense(10),\n",
        "    ]\n",
        ")\n",
        "\n",
        "# Define the loss function. SparseCategoricalCrossentropy is a good fit for classification tasks.\n",
        "loss_fn = tf.keras.losses.SparseCategoricalCrossentropy(from_logits=True)\n",
        "\n",
        "# Compile the model to build the Neural Network. Computation graph is built during compilation.\n",
        "model.compile(optimizer=\"adam\", loss=loss_fn, metrics=[\"accuracy\"])\n",
        "\n",
        "# Embed CodeCarbon using EmissionsTracker.\n",
        "tracker = EmissionsTracker()\n",
        "tracker.start() # Start the CodeCarbon tracker.\n",
        "codecarbon_cb = CodeCarbonCallBack(tracker) # Initialize the CodeCarbonCallback and pass the tracker as an argument.\n",
        "# Train the model.\n",
        "model.fit(x_train, y_train, epochs=4, callbacks=[codecarbon_cb]) # Hooking Callback object to Keras fit() method. The \"codecarbon_cb\" callback is passed as a keyword argument.\n",
        "emissions: float = tracker.stop() # Stop the CodeCarbon tracker.\n",
        "print(f\"Emissions: {emissions} kg\")"
      ]
    }
  ]
}