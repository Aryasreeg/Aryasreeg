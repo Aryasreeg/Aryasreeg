{
  "nbformat": 4,
  "nbformat_minor": 0,
  "metadata": {
    "colab": {
      "name": "CodeCarbon_mnist.ipynb",
      "provenance": [],
      "collapsed_sections": [],
      "authorship_tag": "ABX9TyNNThuH/Urf5Xrp2+lhADco",
      "include_colab_link": true
    },
    "kernelspec": {
      "name": "python3",
      "display_name": "Python 3"
    },
    "language_info": {
      "name": "python"
    },
    "accelerator": "GPU",
    "gpuClass": "standard"
  },
  "cells": [
    {
      "cell_type": "markdown",
      "metadata": {
        "id": "view-in-github",
        "colab_type": "text"
      },
      "source": [
        "<a href=\"https://colab.research.google.com/github/Aryasreeg/Aryasreeg/blob/main/CodeCarbon_mnist.ipynb\" target=\"_parent\"><img src=\"https://colab.research.google.com/assets/colab-badge.svg\" alt=\"Open In Colab\"/></a>"
      ]
    },
    {
      "cell_type": "code",
      "source": [
        "! pip install codecarbon --quiet"
      ],
      "metadata": {
        "colab": {
          "base_uri": "https://localhost:8080/"
        },
        "id": "pC8w-PaU65H5",
        "outputId": "34f3d157-6621-49b9-9671-7ed03bf620b4"
      },
      "execution_count": 1,
      "outputs": [
        {
          "output_type": "stream",
          "name": "stdout",
          "text": [
            "\u001b[?25l\r\u001b[K     |█▉                              | 10 kB 34.2 MB/s eta 0:00:01\r\u001b[K     |███▊                            | 20 kB 41.9 MB/s eta 0:00:01\r\u001b[K     |█████▋                          | 30 kB 43.7 MB/s eta 0:00:01\r\u001b[K     |███████▌                        | 40 kB 28.6 MB/s eta 0:00:01\r\u001b[K     |█████████▍                      | 51 kB 21.5 MB/s eta 0:00:01\r\u001b[K     |███████████▎                    | 61 kB 24.4 MB/s eta 0:00:01\r\u001b[K     |█████████████▏                  | 71 kB 25.0 MB/s eta 0:00:01\r\u001b[K     |███████████████                 | 81 kB 25.8 MB/s eta 0:00:01\r\u001b[K     |████████████████▉               | 92 kB 27.7 MB/s eta 0:00:01\r\u001b[K     |██████████████████▊             | 102 kB 29.5 MB/s eta 0:00:01\r\u001b[K     |████████████████████▋           | 112 kB 29.5 MB/s eta 0:00:01\r\u001b[K     |██████████████████████▌         | 122 kB 29.5 MB/s eta 0:00:01\r\u001b[K     |████████████████████████▍       | 133 kB 29.5 MB/s eta 0:00:01\r\u001b[K     |██████████████████████████▎     | 143 kB 29.5 MB/s eta 0:00:01\r\u001b[K     |████████████████████████████▏   | 153 kB 29.5 MB/s eta 0:00:01\r\u001b[K     |██████████████████████████████  | 163 kB 29.5 MB/s eta 0:00:01\r\u001b[K     |███████████████████████████████▉| 174 kB 29.5 MB/s eta 0:00:01\r\u001b[K     |████████████████████████████████| 174 kB 29.5 MB/s \n",
            "\u001b[K     |████████████████████████████████| 99 kB 12.0 MB/s \n",
            "\u001b[K     |████████████████████████████████| 64 kB 2.0 MB/s \n",
            "\u001b[K     |████████████████████████████████| 46 kB 4.7 MB/s \n",
            "\u001b[?25h  Building wheel for py-cpuinfo (setup.py) ... \u001b[?25l\u001b[?25hdone\n"
          ]
        }
      ]
    },
    {
      "cell_type": "code",
      "execution_count": 2,
      "metadata": {
        "colab": {
          "base_uri": "https://localhost:8080/"
        },
        "id": "8mq94VuV4ymW",
        "outputId": "2af9bdb6-183f-417b-867f-c2e13c3e31a0"
      },
      "outputs": [
        {
          "output_type": "stream",
          "name": "stdout",
          "text": [
            "Downloading data from https://storage.googleapis.com/tensorflow/tf-keras-datasets/mnist.npz\n",
            "11493376/11490434 [==============================] - 0s 0us/step\n",
            "11501568/11490434 [==============================] - 0s 0us/step\n"
          ]
        },
        {
          "output_type": "stream",
          "name": "stderr",
          "text": [
            "[codecarbon INFO @ 10:13:58] [setup] RAM Tracking...\n",
            "[codecarbon INFO @ 10:13:58] [setup] GPU Tracking...\n",
            "[codecarbon INFO @ 10:13:58] Tracking Nvidia GPU via pynvml\n",
            "[codecarbon INFO @ 10:13:58] [setup] CPU Tracking...\n",
            "[codecarbon WARNING @ 10:13:58] No CPU tracking mode found. Falling back on CPU constant mode.\n",
            "[codecarbon WARNING @ 10:14:00] We saw that you have a Intel(R) Xeon(R) CPU @ 2.20GHz but we don't know it. Please contact us.\n",
            "[codecarbon INFO @ 10:14:00] CPU Model on constant consumption mode: Intel(R) Xeon(R) CPU @ 2.20GHz\n",
            "[codecarbon INFO @ 10:14:00] >>> Tracker's metadata:\n",
            "[codecarbon INFO @ 10:14:00]   Platform system: Linux-5.4.188+-x86_64-with-Ubuntu-18.04-bionic\n",
            "[codecarbon INFO @ 10:14:00]   Python version: 3.7.13\n",
            "[codecarbon INFO @ 10:14:00]   Available RAM : 12.683 GB\n",
            "[codecarbon INFO @ 10:14:00]   CPU count: 2\n",
            "[codecarbon INFO @ 10:14:00]   CPU model: Intel(R) Xeon(R) CPU @ 2.20GHz\n",
            "[codecarbon INFO @ 10:14:00]   GPU count: 1\n",
            "[codecarbon INFO @ 10:14:00]   GPU model: 1 x Tesla T4\n"
          ]
        },
        {
          "output_type": "stream",
          "name": "stdout",
          "text": [
            "Epoch 1/4\n",
            "1856/1875 [============================>.] - ETA: 0s - loss: 0.2968 - accuracy: 0.9136"
          ]
        },
        {
          "output_type": "stream",
          "name": "stderr",
          "text": [
            "[codecarbon INFO @ 10:14:07] Energy consumed for RAM : 0.000009 kWh. RAM Power : 4.7559428215026855 W\n",
            "[codecarbon INFO @ 10:14:07] Energy consumed for all GPUs : 0.000054 kWh. All GPUs Power : 27.654 W\n",
            "[codecarbon INFO @ 10:14:07] Energy consumed for all CPUs : 0.000083 kWh. All CPUs Power : 42.5 W\n",
            "[codecarbon INFO @ 10:14:07] 0.000145 kWh of electricity used since the begining.\n"
          ]
        },
        {
          "output_type": "stream",
          "name": "stdout",
          "text": [
            "\b\b\b\b\b\b\b\b\b\b\b\b\b\b\b\b\b\b\b\b\b\b\b\b\b\b\b\b\b\b\b\b\b\b\b\b\b\b\b\b\b\b\b\b\b\b\b\b\b\b\b\b\b\b\b\b\b\b\b\b\b\b\b\b\b\b\b\b\b\b\b\b\b\b\b\b\b\b\b\b\b\b\b\b\b\b\r1875/1875 [==============================] - 7s 2ms/step - loss: 0.2959 - accuracy: 0.9139\n",
            "Epoch 2/4\n",
            "1852/1875 [============================>.] - ETA: 0s - loss: 0.1447 - accuracy: 0.9572"
          ]
        },
        {
          "output_type": "stream",
          "name": "stderr",
          "text": [
            "[codecarbon INFO @ 10:14:11] Energy consumed for RAM : 0.000014 kWh. RAM Power : 4.7559428215026855 W\n",
            "[codecarbon INFO @ 10:14:11] Energy consumed for all GPUs : 0.000083 kWh. All GPUs Power : 27.752 W\n",
            "[codecarbon INFO @ 10:14:11] Energy consumed for all CPUs : 0.000128 kWh. All CPUs Power : 42.5 W\n",
            "[codecarbon INFO @ 10:14:11] 0.000226 kWh of electricity used since the begining.\n"
          ]
        },
        {
          "output_type": "stream",
          "name": "stdout",
          "text": [
            "\b\b\b\b\b\b\b\b\b\b\b\b\b\b\b\b\b\b\b\b\b\b\b\b\b\b\b\b\b\b\b\b\b\b\b\b\b\b\b\b\b\b\b\b\b\b\b\b\b\b\b\b\b\b\b\b\b\b\b\b\b\b\b\b\b\b\b\b\b\b\b\b\b\b\b\b\b\b\b\b\b\b\b\b\b\b\r1875/1875 [==============================] - 4s 2ms/step - loss: 0.1449 - accuracy: 0.9571\n",
            "Epoch 3/4\n",
            "1856/1875 [============================>.] - ETA: 0s - loss: 0.1071 - accuracy: 0.9675"
          ]
        },
        {
          "output_type": "stream",
          "name": "stderr",
          "text": [
            "[codecarbon INFO @ 10:14:15] Energy consumed for RAM : 0.000019 kWh. RAM Power : 4.7559428215026855 W\n",
            "[codecarbon INFO @ 10:14:15] Energy consumed for all GPUs : 0.000114 kWh. All GPUs Power : 27.752 W\n",
            "[codecarbon INFO @ 10:14:15] Energy consumed for all CPUs : 0.000175 kWh. All CPUs Power : 42.5 W\n",
            "[codecarbon INFO @ 10:14:15] 0.000308 kWh of electricity used since the begining.\n"
          ]
        },
        {
          "output_type": "stream",
          "name": "stdout",
          "text": [
            "\b\b\b\b\b\b\b\b\b\b\b\b\b\b\b\b\b\b\b\b\b\b\b\b\b\b\b\b\b\b\b\b\b\b\b\b\b\b\b\b\b\b\b\b\b\b\b\b\b\b\b\b\b\b\b\b\b\b\b\b\b\b\b\b\b\b\b\b\b\b\b\b\b\b\b\b\b\b\b\b\b\b\b\b\b\b\r1875/1875 [==============================] - 4s 2ms/step - loss: 0.1068 - accuracy: 0.9676\n",
            "Epoch 4/4\n",
            "  78/1875 [>.............................] - ETA: 3s - loss: 0.0707 - accuracy: 0.9768"
          ]
        },
        {
          "output_type": "stream",
          "name": "stderr",
          "text": [
            "[codecarbon INFO @ 10:14:15] Energy consumed for RAM : 0.000020 kWh. RAM Power : 4.7559428215026855 W\n",
            "[codecarbon INFO @ 10:14:15] Energy consumed for all GPUs : 0.000115 kWh. All GPUs Power : 27.752 W\n",
            "[codecarbon INFO @ 10:14:15] Energy consumed for all CPUs : 0.000177 kWh. All CPUs Power : 42.5 W\n",
            "[codecarbon INFO @ 10:14:15] 0.000312 kWh of electricity used since the begining.\n"
          ]
        },
        {
          "output_type": "stream",
          "name": "stdout",
          "text": [
            "1854/1875 [============================>.] - ETA: 0s - loss: 0.0859 - accuracy: 0.9737"
          ]
        },
        {
          "output_type": "stream",
          "name": "stderr",
          "text": [
            "[codecarbon INFO @ 10:14:19] Energy consumed for RAM : 0.000025 kWh. RAM Power : 4.7559428215026855 W\n",
            "[codecarbon INFO @ 10:14:19] Energy consumed for all GPUs : 0.000143 kWh. All GPUs Power : 27.851 W\n",
            "[codecarbon INFO @ 10:14:19] Energy consumed for all CPUs : 0.000220 kWh. All CPUs Power : 42.5 W\n",
            "[codecarbon INFO @ 10:14:19] 0.000388 kWh of electricity used since the begining.\n"
          ]
        },
        {
          "output_type": "stream",
          "name": "stdout",
          "text": [
            "\b\b\b\b\b\b\b\b\b\b\b\b\b\b\b\b\b\b\b\b\b\b\b\b\b\b\b\b\b\b\b\b\b\b\b\b\b\b\b\b\b\b\b\b\b\b\b\b\b\b\b\b\b\b\b\b\b\b\b\b\b\b\b\b\b\b\b\b\b\b\b\b\b\b\b\b\b\b\b\b\b\b\b\b\b\b\r1875/1875 [==============================] - 4s 2ms/step - loss: 0.0862 - accuracy: 0.9737\n"
          ]
        },
        {
          "output_type": "stream",
          "name": "stderr",
          "text": [
            "[codecarbon INFO @ 10:14:21] Energy consumed for RAM : 0.000028 kWh. RAM Power : 4.7559428215026855 W\n",
            "[codecarbon INFO @ 10:14:21] Energy consumed for all GPUs : 0.000163 kWh. All GPUs Power : 27.457 W\n",
            "[codecarbon INFO @ 10:14:21] Energy consumed for all CPUs : 0.000250 kWh. All CPUs Power : 42.5 W\n",
            "[codecarbon INFO @ 10:14:21] 0.000441 kWh of electricity used since the begining.\n"
          ]
        },
        {
          "output_type": "stream",
          "name": "stdout",
          "text": [
            "Emissions: 9.632394209299078e-05 kg\n"
          ]
        }
      ],
      "source": [
        "\n",
        "# Import required libraries.\n",
        "import tensorflow as tf # Tensorflow backend.\n",
        "from tensorflow.keras.callbacks import Callback # Callback object can perform actions at various steps of the model training.\n",
        "\n",
        "from codecarbon import EmissionsTracker # CodeCarbon EmissionsTracker for embedding CodeCarbon functionality.\n",
        "\n",
        "\"\"\"\n",
        "This sample code shows how to use CodeCarbon as a Keras Callback\n",
        "to save emissions after each epoch.\n",
        "\"\"\"\n",
        "\n",
        "class CodeCarbonCallBack(Callback):\n",
        "    \"\"\"\n",
        "    CodeCarbonCallback implements a trainer callback that can customize the behaviour of the\n",
        "    Keras training loop. The callback is called after each epoch.\n",
        "    This callback is used for tracking the CO2 emissions of training after each epoch.\n",
        "    \"\"\"\n",
        "    def __init__(self, codecarbon_tracker):\n",
        "        self.codecarbon_tracker = codecarbon_tracker\n",
        "        pass\n",
        "\n",
        "    def on_epoch_end(self, epoch, logs=None):\n",
        "        \"\"\"\n",
        "        Called at the end of an epoch during training.\n",
        "        \"\"\"\n",
        "        self.codecarbon_tracker.flush() # CodeCarbon flush() API for registering Carbon emissions.\n",
        "\n",
        "# Define the MNIST NumPy dataset for testing purposes.\n",
        "mnist = tf.keras.datasets.mnist\n",
        "\n",
        "(x_train, y_train), (x_test, y_test) = mnist.load_data() # Load the MNIST NumPy data and split it between train and test sets.\n",
        "x_train, x_test = x_train / 255.0, x_test / 255.0 # Scale images to the [0, 1] range.\n",
        "\n",
        "# Build the model.\n",
        "model = tf.keras.models.Sequential(\n",
        "    [\n",
        "        tf.keras.layers.Flatten(input_shape=(28, 28)),\n",
        "        tf.keras.layers.Dense(128, activation=\"relu\"),\n",
        "        tf.keras.layers.Dropout(0.2),\n",
        "        tf.keras.layers.Dense(10),\n",
        "    ]\n",
        ")\n",
        "\n",
        "# Define the loss function. SparseCategoricalCrossentropy is a good fit for classification tasks.\n",
        "loss_fn = tf.keras.losses.SparseCategoricalCrossentropy(from_logits=True)\n",
        "\n",
        "# Compile the model to build the Neural Network. Computation graph is built during compilation.\n",
        "model.compile(optimizer=\"adam\", loss=loss_fn, metrics=[\"accuracy\"])\n",
        "\n",
        "# Embed CodeCarbon using EmissionsTracker.\n",
        "tracker = EmissionsTracker()\n",
        "tracker.start() # Start the CodeCarbon tracker.\n",
        "codecarbon_cb = CodeCarbonCallBack(tracker) # Initialize the CodeCarbonCallback and pass the tracker as an argument.\n",
        "# Train the model.\n",
        "model.fit(x_train, y_train, epochs=4, callbacks=[codecarbon_cb]) # Hooking Callback object to Keras fit() method. The \"codecarbon_cb\" callback is passed as a keyword argument.\n",
        "emissions: float = tracker.stop() # Stop the CodeCarbon tracker.\n",
        "print(f\"Emissions: {emissions} kg\")"
      ]
    }
  ]
}